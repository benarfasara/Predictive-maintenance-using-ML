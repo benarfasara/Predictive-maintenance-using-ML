{
 "cells": [
  {
   "cell_type": "markdown",
   "id": "0604c286",
   "metadata": {},
   "source": [
    "## 1. Import libraries"
   ]
  },
  {
   "cell_type": "code",
   "execution_count": 1,
   "id": "65c32ca7",
   "metadata": {},
   "outputs": [],
   "source": [
    "import pandas as pd\n",
    "import numpy as np"
   ]
  },
  {
   "cell_type": "markdown",
   "id": "49341e23",
   "metadata": {},
   "source": [
    "## 2. Import Final Data"
   ]
  },
  {
   "cell_type": "code",
   "execution_count": 2,
   "id": "d10e9fec",
   "metadata": {},
   "outputs": [],
   "source": [
    "final_train_data = pd.read_csv('final_train_data.csv', sep = ',')\n",
    "final_test_data = pd.read_csv('final_test_data.csv', sep = ',')"
   ]
  },
  {
   "cell_type": "code",
   "execution_count": 3,
   "id": "2362f768",
   "metadata": {},
   "outputs": [
    {
     "data": {
      "text/html": [
       "<div>\n",
       "<style scoped>\n",
       "    .dataframe tbody tr th:only-of-type {\n",
       "        vertical-align: middle;\n",
       "    }\n",
       "\n",
       "    .dataframe tbody tr th {\n",
       "        vertical-align: top;\n",
       "    }\n",
       "\n",
       "    .dataframe thead th {\n",
       "        text-align: right;\n",
       "    }\n",
       "</style>\n",
       "<table border=\"1\" class=\"dataframe\">\n",
       "  <thead>\n",
       "    <tr style=\"text-align: right;\">\n",
       "      <th></th>\n",
       "      <th>s12</th>\n",
       "      <th>s21</th>\n",
       "      <th>s20</th>\n",
       "      <th>s13</th>\n",
       "      <th>s8</th>\n",
       "      <th>s3</th>\n",
       "      <th>s7</th>\n",
       "      <th>s17</th>\n",
       "      <th>s2</th>\n",
       "      <th>s15</th>\n",
       "      <th>s4</th>\n",
       "      <th>s11</th>\n",
       "      <th>ttf_fixed</th>\n",
       "    </tr>\n",
       "  </thead>\n",
       "  <tbody>\n",
       "    <tr>\n",
       "      <th>0</th>\n",
       "      <td>521.66</td>\n",
       "      <td>23.4190</td>\n",
       "      <td>39.06</td>\n",
       "      <td>2388.02</td>\n",
       "      <td>2388.06</td>\n",
       "      <td>1589.70</td>\n",
       "      <td>554.36</td>\n",
       "      <td>392</td>\n",
       "      <td>641.82</td>\n",
       "      <td>8.4195</td>\n",
       "      <td>1400.60</td>\n",
       "      <td>47.47</td>\n",
       "      <td>13.820275</td>\n",
       "    </tr>\n",
       "    <tr>\n",
       "      <th>1</th>\n",
       "      <td>522.28</td>\n",
       "      <td>23.4236</td>\n",
       "      <td>39.00</td>\n",
       "      <td>2388.07</td>\n",
       "      <td>2388.04</td>\n",
       "      <td>1591.82</td>\n",
       "      <td>553.75</td>\n",
       "      <td>392</td>\n",
       "      <td>642.15</td>\n",
       "      <td>8.4318</td>\n",
       "      <td>1403.14</td>\n",
       "      <td>47.49</td>\n",
       "      <td>13.784049</td>\n",
       "    </tr>\n",
       "    <tr>\n",
       "      <th>2</th>\n",
       "      <td>522.42</td>\n",
       "      <td>23.3442</td>\n",
       "      <td>38.95</td>\n",
       "      <td>2388.03</td>\n",
       "      <td>2388.08</td>\n",
       "      <td>1587.99</td>\n",
       "      <td>554.26</td>\n",
       "      <td>390</td>\n",
       "      <td>642.35</td>\n",
       "      <td>8.4178</td>\n",
       "      <td>1404.20</td>\n",
       "      <td>47.27</td>\n",
       "      <td>13.747727</td>\n",
       "    </tr>\n",
       "    <tr>\n",
       "      <th>3</th>\n",
       "      <td>522.86</td>\n",
       "      <td>23.3739</td>\n",
       "      <td>38.88</td>\n",
       "      <td>2388.08</td>\n",
       "      <td>2388.11</td>\n",
       "      <td>1582.79</td>\n",
       "      <td>554.45</td>\n",
       "      <td>392</td>\n",
       "      <td>642.35</td>\n",
       "      <td>8.3682</td>\n",
       "      <td>1401.87</td>\n",
       "      <td>47.13</td>\n",
       "      <td>13.711309</td>\n",
       "    </tr>\n",
       "    <tr>\n",
       "      <th>4</th>\n",
       "      <td>522.19</td>\n",
       "      <td>23.4044</td>\n",
       "      <td>38.90</td>\n",
       "      <td>2388.04</td>\n",
       "      <td>2388.06</td>\n",
       "      <td>1582.85</td>\n",
       "      <td>554.00</td>\n",
       "      <td>393</td>\n",
       "      <td>642.37</td>\n",
       "      <td>8.4294</td>\n",
       "      <td>1406.22</td>\n",
       "      <td>47.28</td>\n",
       "      <td>13.674794</td>\n",
       "    </tr>\n",
       "  </tbody>\n",
       "</table>\n",
       "</div>"
      ],
      "text/plain": [
       "      s12      s21    s20      s13       s8       s3      s7  s17      s2  \\\n",
       "0  521.66  23.4190  39.06  2388.02  2388.06  1589.70  554.36  392  641.82   \n",
       "1  522.28  23.4236  39.00  2388.07  2388.04  1591.82  553.75  392  642.15   \n",
       "2  522.42  23.3442  38.95  2388.03  2388.08  1587.99  554.26  390  642.35   \n",
       "3  522.86  23.3739  38.88  2388.08  2388.11  1582.79  554.45  392  642.35   \n",
       "4  522.19  23.4044  38.90  2388.04  2388.06  1582.85  554.00  393  642.37   \n",
       "\n",
       "      s15       s4    s11  ttf_fixed  \n",
       "0  8.4195  1400.60  47.47  13.820275  \n",
       "1  8.4318  1403.14  47.49  13.784049  \n",
       "2  8.4178  1404.20  47.27  13.747727  \n",
       "3  8.3682  1401.87  47.13  13.711309  \n",
       "4  8.4294  1406.22  47.28  13.674794  "
      ]
     },
     "execution_count": 3,
     "metadata": {},
     "output_type": "execute_result"
    }
   ],
   "source": [
    "final_train_data.head()"
   ]
  },
  {
   "cell_type": "code",
   "execution_count": 4,
   "id": "08d307a1",
   "metadata": {},
   "outputs": [
    {
     "data": {
      "text/html": [
       "<div>\n",
       "<style scoped>\n",
       "    .dataframe tbody tr th:only-of-type {\n",
       "        vertical-align: middle;\n",
       "    }\n",
       "\n",
       "    .dataframe tbody tr th {\n",
       "        vertical-align: top;\n",
       "    }\n",
       "\n",
       "    .dataframe thead th {\n",
       "        text-align: right;\n",
       "    }\n",
       "</style>\n",
       "<table border=\"1\" class=\"dataframe\">\n",
       "  <thead>\n",
       "    <tr style=\"text-align: right;\">\n",
       "      <th></th>\n",
       "      <th>s12</th>\n",
       "      <th>s21</th>\n",
       "      <th>s20</th>\n",
       "      <th>s13</th>\n",
       "      <th>s8</th>\n",
       "      <th>s3</th>\n",
       "      <th>s7</th>\n",
       "      <th>s17</th>\n",
       "      <th>s2</th>\n",
       "      <th>s15</th>\n",
       "      <th>s4</th>\n",
       "      <th>s11</th>\n",
       "      <th>ttf_fixed</th>\n",
       "    </tr>\n",
       "  </thead>\n",
       "  <tbody>\n",
       "    <tr>\n",
       "      <th>0</th>\n",
       "      <td>521.72</td>\n",
       "      <td>23.3735</td>\n",
       "      <td>38.86</td>\n",
       "      <td>2388.03</td>\n",
       "      <td>2388.04</td>\n",
       "      <td>1585.29</td>\n",
       "      <td>553.90</td>\n",
       "      <td>392</td>\n",
       "      <td>643.02</td>\n",
       "      <td>8.4052</td>\n",
       "      <td>1398.21</td>\n",
       "      <td>47.20</td>\n",
       "      <td>5.477226</td>\n",
       "    </tr>\n",
       "    <tr>\n",
       "      <th>1</th>\n",
       "      <td>522.16</td>\n",
       "      <td>23.3916</td>\n",
       "      <td>39.02</td>\n",
       "      <td>2388.06</td>\n",
       "      <td>2388.01</td>\n",
       "      <td>1588.45</td>\n",
       "      <td>554.85</td>\n",
       "      <td>393</td>\n",
       "      <td>641.71</td>\n",
       "      <td>8.3803</td>\n",
       "      <td>1395.42</td>\n",
       "      <td>47.50</td>\n",
       "      <td>5.385165</td>\n",
       "    </tr>\n",
       "    <tr>\n",
       "      <th>2</th>\n",
       "      <td>521.97</td>\n",
       "      <td>23.4166</td>\n",
       "      <td>39.08</td>\n",
       "      <td>2388.03</td>\n",
       "      <td>2388.05</td>\n",
       "      <td>1586.94</td>\n",
       "      <td>554.11</td>\n",
       "      <td>393</td>\n",
       "      <td>642.46</td>\n",
       "      <td>8.4441</td>\n",
       "      <td>1401.34</td>\n",
       "      <td>47.50</td>\n",
       "      <td>5.291503</td>\n",
       "    </tr>\n",
       "    <tr>\n",
       "      <th>3</th>\n",
       "      <td>521.38</td>\n",
       "      <td>23.3737</td>\n",
       "      <td>39.00</td>\n",
       "      <td>2388.05</td>\n",
       "      <td>2388.03</td>\n",
       "      <td>1584.12</td>\n",
       "      <td>554.07</td>\n",
       "      <td>391</td>\n",
       "      <td>642.44</td>\n",
       "      <td>8.3917</td>\n",
       "      <td>1406.42</td>\n",
       "      <td>47.28</td>\n",
       "      <td>5.196152</td>\n",
       "    </tr>\n",
       "    <tr>\n",
       "      <th>4</th>\n",
       "      <td>522.15</td>\n",
       "      <td>23.4130</td>\n",
       "      <td>38.99</td>\n",
       "      <td>2388.03</td>\n",
       "      <td>2388.01</td>\n",
       "      <td>1587.19</td>\n",
       "      <td>554.16</td>\n",
       "      <td>390</td>\n",
       "      <td>642.51</td>\n",
       "      <td>8.4031</td>\n",
       "      <td>1401.92</td>\n",
       "      <td>47.31</td>\n",
       "      <td>5.099020</td>\n",
       "    </tr>\n",
       "  </tbody>\n",
       "</table>\n",
       "</div>"
      ],
      "text/plain": [
       "      s12      s21    s20      s13       s8       s3      s7  s17      s2  \\\n",
       "0  521.72  23.3735  38.86  2388.03  2388.04  1585.29  553.90  392  643.02   \n",
       "1  522.16  23.3916  39.02  2388.06  2388.01  1588.45  554.85  393  641.71   \n",
       "2  521.97  23.4166  39.08  2388.03  2388.05  1586.94  554.11  393  642.46   \n",
       "3  521.38  23.3737  39.00  2388.05  2388.03  1584.12  554.07  391  642.44   \n",
       "4  522.15  23.4130  38.99  2388.03  2388.01  1587.19  554.16  390  642.51   \n",
       "\n",
       "      s15       s4    s11  ttf_fixed  \n",
       "0  8.4052  1398.21  47.20   5.477226  \n",
       "1  8.3803  1395.42  47.50   5.385165  \n",
       "2  8.4441  1401.34  47.50   5.291503  \n",
       "3  8.3917  1406.42  47.28   5.196152  \n",
       "4  8.4031  1401.92  47.31   5.099020  "
      ]
     },
     "execution_count": 4,
     "metadata": {},
     "output_type": "execute_result"
    }
   ],
   "source": [
    "final_test_data.head()"
   ]
  },
  {
   "cell_type": "code",
   "execution_count": 5,
   "id": "984425f0",
   "metadata": {},
   "outputs": [],
   "source": [
    "X_train = final_train_data[['s12', 's21', 's20', 's13', 's8', 's3', 's17', 's2', 's15', 's4', 's11']]\n",
    "y_train = final_train_data['ttf_fixed']\n",
    "X_test = final_test_data[['s12', 's21', 's20', 's13', 's8', 's3', 's17', 's2', 's15', 's4', 's11']]\n",
    "y_test = final_test_data['ttf_fixed']                            "
   ]
  },
  {
   "cell_type": "markdown",
   "id": "78c2c171",
   "metadata": {},
   "source": [
    "## 3. Prepare model"
   ]
  },
  {
   "cell_type": "code",
   "execution_count": 28,
   "id": "b12669ef",
   "metadata": {},
   "outputs": [],
   "source": [
    "import numpy as np\n",
    "import pandas as pd\n",
    "from keras.models import Sequential\n",
    "from keras.layers import Dense\n",
    "from sklearn.model_selection import train_test_split\n",
    "from sklearn.preprocessing import StandardScaler\n",
    "from sklearn.metrics import mean_squared_error\n",
    "\n",
    "# Load and preprocess sensor data\n",
    "X_train = np.array(X_train)\n",
    "y_train = np.array(y_train)\n",
    "\n",
    "# Build the neural network\n",
    "model = Sequential()\n",
    "model.add(Dense(70, activation='relu', input_dim = X_train.shape[1]))\n",
    "model.add(Dense(60, activation='relu'))\n",
    "model.add(Dense(60, activation='relu'))\n",
    "\n",
    "#model.add(Dense(50, activation='relu'))\n",
    "\n",
    "\n",
    "model.add(Dense(1))"
   ]
  },
  {
   "cell_type": "markdown",
   "id": "c6525c62",
   "metadata": {},
   "source": [
    "### 3.1 Compile model"
   ]
  },
  {
   "cell_type": "code",
   "execution_count": 30,
   "id": "b050f1bc",
   "metadata": {
    "scrolled": false
   },
   "outputs": [
    {
     "name": "stdout",
     "output_type": "stream",
     "text": [
      "Epoch 1/20\n",
      "516/516 [==============================] - 3s 4ms/step - loss: 16.7214 - mse: 16.7213 - mae: 3.2641\n",
      "Epoch 2/20\n",
      "516/516 [==============================] - 2s 3ms/step - loss: 13.9098 - mse: 13.9098 - mae: 3.0597\n",
      "Epoch 3/20\n",
      "516/516 [==============================] - 2s 4ms/step - loss: 13.4338 - mse: 13.4338 - mae: 3.0076\n",
      "Epoch 4/20\n",
      "516/516 [==============================] - 2s 4ms/step - loss: 15.0029 - mse: 15.0029 - mae: 3.1231\n",
      "Epoch 5/20\n",
      "516/516 [==============================] - 2s 4ms/step - loss: 12.4881 - mse: 12.4881 - mae: 2.8875\n",
      "Epoch 6/20\n",
      "516/516 [==============================] - 1s 2ms/step - loss: 11.9261 - mse: 11.9261 - mae: 2.8221\n",
      "Epoch 7/20\n",
      "516/516 [==============================] - 1s 2ms/step - loss: 9.7903 - mse: 9.7903 - mae: 2.5501\n",
      "Epoch 8/20\n",
      "516/516 [==============================] - 2s 3ms/step - loss: 8.7852 - mse: 8.7852 - mae: 2.4062\n",
      "Epoch 9/20\n",
      "516/516 [==============================] - 2s 3ms/step - loss: 8.1113 - mse: 8.1113 - mae: 2.2997\n",
      "Epoch 10/20\n",
      "516/516 [==============================] - 2s 4ms/step - loss: 7.8943 - mse: 7.8943 - mae: 2.2732\n",
      "Epoch 11/20\n",
      "516/516 [==============================] - 2s 4ms/step - loss: 7.2189 - mse: 7.2189 - mae: 2.1694\n",
      "Epoch 12/20\n",
      "516/516 [==============================] - 2s 4ms/step - loss: 7.4617 - mse: 7.4617 - mae: 2.2058\n",
      "Epoch 13/20\n",
      "516/516 [==============================] - 2s 4ms/step - loss: 7.0641 - mse: 7.0641 - mae: 2.1448\n",
      "Epoch 14/20\n",
      "516/516 [==============================] - 2s 4ms/step - loss: 7.0331 - mse: 7.0331 - mae: 2.1357\n",
      "Epoch 15/20\n",
      "516/516 [==============================] - 2s 3ms/step - loss: 7.2925 - mse: 7.2925 - mae: 2.1747\n",
      "Epoch 16/20\n",
      "516/516 [==============================] - 1s 2ms/step - loss: 6.8285 - mse: 6.8285 - mae: 2.1044\n",
      "Epoch 17/20\n",
      "516/516 [==============================] - 1s 3ms/step - loss: 7.0304 - mse: 7.0304 - mae: 2.1309\n",
      "Epoch 18/20\n",
      "516/516 [==============================] - 2s 3ms/step - loss: 6.6694 - mse: 6.6694 - mae: 2.0797\n",
      "Epoch 19/20\n",
      "516/516 [==============================] - 2s 3ms/step - loss: 6.7515 - mse: 6.7515 - mae: 2.0981\n",
      "Epoch 20/20\n",
      "516/516 [==============================] - 2s 3ms/step - loss: 6.8245 - mse: 6.8245 - mae: 2.0991\n",
      "410/410 [==============================] - 1s 2ms/step\n",
      "Mean Squared Error: 9.71190434773119\n",
      "R-squared: 0.09809309468717697\n",
      "Mean Absolute Error: 3.0133221183137735\n"
     ]
    }
   ],
   "source": [
    "from sklearn.metrics import mean_squared_error, r2_score\n",
    "\n",
    "# Compile the model with the desired loss and metrics\n",
    "model.compile(optimizer='adam', loss='mean_squared_error', metrics=['mse', 'mae'])\n",
    "\n",
    "# Train the model\n",
    "epochs = 20\n",
    "batch_size = 40\n",
    "model.fit(X_train, y_train, epochs=epochs, batch_size=batch_size, verbose=1)\n",
    "\n",
    "y_test = np.array(y_test)\n",
    "X_test = np.array(X_test)\n",
    "\n",
    "\n",
    "# Evaluate the model on the test data\n",
    "y_pred = model.predict(X_test)\n",
    "\n",
    "mse = mean_squared_error(y_test, y_pred)\n",
    "r2 = r2_score(y_test, y_pred)  # Calculate R2 score\n",
    "mae = np.mean(np.abs(y_pred - y_test))  # Calculate MAE\n",
    "print(\"Mean Squared Error:\", mse)\n",
    "print(\"R-squared:\", r2)\n",
    "print(\"Mean Absolute Error:\", mae)"
   ]
  },
  {
   "cell_type": "code",
   "execution_count": 31,
   "id": "ce224a59",
   "metadata": {},
   "outputs": [
    {
     "name": "stdout",
     "output_type": "stream",
     "text": [
      "410/410 [==============================] - 1s 2ms/step - loss: 9.7119 - mse: 9.7119 - mae: 2.4840\n"
     ]
    },
    {
     "data": {
      "text/plain": [
       "[9.711905479431152, 9.711905479431152, 2.4840445518493652]"
      ]
     },
     "execution_count": 31,
     "metadata": {},
     "output_type": "execute_result"
    }
   ],
   "source": [
    "#evaluting the model\n",
    "model.evaluate(X_test,y_test)"
   ]
  },
  {
   "cell_type": "markdown",
   "id": "8446b548",
   "metadata": {},
   "source": [
    "### 3.2 Retrieve weights, bias"
   ]
  },
  {
   "cell_type": "code",
   "execution_count": 32,
   "id": "85c3fdff",
   "metadata": {},
   "outputs": [],
   "source": [
    "weights, bias = model.layers[0].get_weights()\n",
    "# Save the weights and bias to a NumPy binary file\n",
    "np.save('weights.npy', weights)\n",
    "np.save('bias.npy', bias)"
   ]
  },
  {
   "cell_type": "markdown",
   "id": "35692c5f",
   "metadata": {},
   "source": [
    "## 4. Evaluate model"
   ]
  },
  {
   "cell_type": "markdown",
   "id": "8dfc8b34",
   "metadata": {},
   "source": [
    "### • mae = 2.484\n",
    "### • R^2 = 0.09809\n",
    "### • MSE = 9.7119\n"
   ]
  },
  {
   "cell_type": "code",
   "execution_count": 35,
   "id": "2b58c0da",
   "metadata": {},
   "outputs": [
    {
     "data": {
      "image/png": "[encoded data removed]",
      "text/plain": [
       "<Figure size 640x480 with 1 Axes>"
      ]
     },
     "metadata": {},
     "output_type": "display_data"
    }
   ],
   "source": [
    "import matplotlib.pyplot as plt\n",
    "fig = plt.scatter(y_test, y_pred)\n",
    "plt.xlabel('y_test')\n",
    "plt.ylabel('y_pred')\n",
    "plt.title('y_pred against y_test')\n",
    "plt.show()"
   ]
  },
  {
   "cell_type": "markdown",
   "id": "d6fabc80",
   "metadata": {},
   "source": [
    "## Mse is in same units as our label ttf_fixed, which brings us to the result of predicting the time to failure with an error of an average of 9.7119 cycles."
   ]
  }
 ],
 "metadata": {
  "kernelspec": {
   "display_name": "Python 3 (ipykernel)",
   "language": "python",
   "name": "python3"
  },
  "language_info": {
   "codemirror_mode": {
    "name": "ipython",
    "version": 3
   },
   "file_extension": ".py",
   "mimetype": "text/x-python",
   "name": "python",
   "nbconvert_exporter": "python",
   "pygments_lexer": "ipython3",
   "version": "3.9.16"
  }
 },
 "nbformat": 4,
 "nbformat_minor": 5
}

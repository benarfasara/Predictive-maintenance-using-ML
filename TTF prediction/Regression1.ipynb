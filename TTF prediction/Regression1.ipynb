{
 "cells": [
  {
   "cell_type": "markdown",
   "id": "08504fab",
   "metadata": {},
   "source": [
    "## 1. Import libraries"
   ]
  },
  {
   "cell_type": "code",
   "execution_count": 1,
   "id": "f462782e",
   "metadata": {},
   "outputs": [],
   "source": [
    "import pandas as pd\n",
    "import numpy as np\n",
    "import math\n",
    "import copy"
   ]
  },
  {
   "cell_type": "markdown",
   "id": "93157eaa",
   "metadata": {},
   "source": [
    "## 2. Import Final Data"
   ]
  },
  {
   "cell_type": "code",
   "execution_count": 2,
   "id": "423b2c42",
   "metadata": {},
   "outputs": [],
   "source": [
    "final_train_data = pd.read_csv('final_train_data.csv', sep = ',')\n",
    "final_test_data = pd.read_csv('final_test_data.csv', sep = ',')"
   ]
  },
  {
   "cell_type": "code",
   "execution_count": 7,
   "id": "8257084a",
   "metadata": {},
   "outputs": [
    {
     "data": {
      "text/html": [
       "<div>\n",
       "<style scoped>\n",
       "    .dataframe tbody tr th:only-of-type {\n",
       "        vertical-align: middle;\n",
       "    }\n",
       "\n",
       "    .dataframe tbody tr th {\n",
       "        vertical-align: top;\n",
       "    }\n",
       "\n",
       "    .dataframe thead th {\n",
       "        text-align: right;\n",
       "    }\n",
       "</style>\n",
       "<table border=\"1\" class=\"dataframe\">\n",
       "  <thead>\n",
       "    <tr style=\"text-align: right;\">\n",
       "      <th></th>\n",
       "      <th>s12</th>\n",
       "      <th>s21</th>\n",
       "      <th>s20</th>\n",
       "      <th>s13</th>\n",
       "      <th>s8</th>\n",
       "      <th>s3</th>\n",
       "      <th>s7</th>\n",
       "      <th>s17</th>\n",
       "      <th>s2</th>\n",
       "      <th>s15</th>\n",
       "      <th>s4</th>\n",
       "      <th>s11</th>\n",
       "      <th>ttf_fixed</th>\n",
       "    </tr>\n",
       "  </thead>\n",
       "  <tbody>\n",
       "    <tr>\n",
       "      <th>0</th>\n",
       "      <td>521.66</td>\n",
       "      <td>23.4190</td>\n",
       "      <td>39.06</td>\n",
       "      <td>2388.02</td>\n",
       "      <td>2388.06</td>\n",
       "      <td>1589.70</td>\n",
       "      <td>554.36</td>\n",
       "      <td>392</td>\n",
       "      <td>641.82</td>\n",
       "      <td>8.4195</td>\n",
       "      <td>1400.60</td>\n",
       "      <td>47.47</td>\n",
       "      <td>13.820275</td>\n",
       "    </tr>\n",
       "    <tr>\n",
       "      <th>1</th>\n",
       "      <td>522.28</td>\n",
       "      <td>23.4236</td>\n",
       "      <td>39.00</td>\n",
       "      <td>2388.07</td>\n",
       "      <td>2388.04</td>\n",
       "      <td>1591.82</td>\n",
       "      <td>553.75</td>\n",
       "      <td>392</td>\n",
       "      <td>642.15</td>\n",
       "      <td>8.4318</td>\n",
       "      <td>1403.14</td>\n",
       "      <td>47.49</td>\n",
       "      <td>13.784049</td>\n",
       "    </tr>\n",
       "    <tr>\n",
       "      <th>2</th>\n",
       "      <td>522.42</td>\n",
       "      <td>23.3442</td>\n",
       "      <td>38.95</td>\n",
       "      <td>2388.03</td>\n",
       "      <td>2388.08</td>\n",
       "      <td>1587.99</td>\n",
       "      <td>554.26</td>\n",
       "      <td>390</td>\n",
       "      <td>642.35</td>\n",
       "      <td>8.4178</td>\n",
       "      <td>1404.20</td>\n",
       "      <td>47.27</td>\n",
       "      <td>13.747727</td>\n",
       "    </tr>\n",
       "    <tr>\n",
       "      <th>3</th>\n",
       "      <td>522.86</td>\n",
       "      <td>23.3739</td>\n",
       "      <td>38.88</td>\n",
       "      <td>2388.08</td>\n",
       "      <td>2388.11</td>\n",
       "      <td>1582.79</td>\n",
       "      <td>554.45</td>\n",
       "      <td>392</td>\n",
       "      <td>642.35</td>\n",
       "      <td>8.3682</td>\n",
       "      <td>1401.87</td>\n",
       "      <td>47.13</td>\n",
       "      <td>13.711309</td>\n",
       "    </tr>\n",
       "    <tr>\n",
       "      <th>4</th>\n",
       "      <td>522.19</td>\n",
       "      <td>23.4044</td>\n",
       "      <td>38.90</td>\n",
       "      <td>2388.04</td>\n",
       "      <td>2388.06</td>\n",
       "      <td>1582.85</td>\n",
       "      <td>554.00</td>\n",
       "      <td>393</td>\n",
       "      <td>642.37</td>\n",
       "      <td>8.4294</td>\n",
       "      <td>1406.22</td>\n",
       "      <td>47.28</td>\n",
       "      <td>13.674794</td>\n",
       "    </tr>\n",
       "  </tbody>\n",
       "</table>\n",
       "</div>"
      ],
      "text/plain": [
       "      s12      s21    s20      s13       s8       s3      s7  s17      s2  \\\n",
       "0  521.66  23.4190  39.06  2388.02  2388.06  1589.70  554.36  392  641.82   \n",
       "1  522.28  23.4236  39.00  2388.07  2388.04  1591.82  553.75  392  642.15   \n",
       "2  522.42  23.3442  38.95  2388.03  2388.08  1587.99  554.26  390  642.35   \n",
       "3  522.86  23.3739  38.88  2388.08  2388.11  1582.79  554.45  392  642.35   \n",
       "4  522.19  23.4044  38.90  2388.04  2388.06  1582.85  554.00  393  642.37   \n",
       "\n",
       "      s15       s4    s11  ttf_fixed  \n",
       "0  8.4195  1400.60  47.47  13.820275  \n",
       "1  8.4318  1403.14  47.49  13.784049  \n",
       "2  8.4178  1404.20  47.27  13.747727  \n",
       "3  8.3682  1401.87  47.13  13.711309  \n",
       "4  8.4294  1406.22  47.28  13.674794  "
      ]
     },
     "execution_count": 7,
     "metadata": {},
     "output_type": "execute_result"
    }
   ],
   "source": [
    "final_train_data.head()"
   ]
  },
  {
   "cell_type": "code",
   "execution_count": null,
   "id": "9f23ef25",
   "metadata": {},
   "outputs": [],
   "source": [
    "final_test_data.head()"
   ]
  },
  {
   "cell_type": "code",
   "execution_count": 8,
   "id": "aa27c9e6",
   "metadata": {},
   "outputs": [],
   "source": [
    "X_train = final_train_data[['s12', 's21', 's20', 's13', 's8', 's3', 's17','s7', 's2', 's15', 's4', 's11']]\n",
    "y_train = final_train_data['ttf_fixed']\n",
    "X_test = final_test_data[['s12', 's21', 's20', 's13', 's8', 's3', 's17', 's2', 's7', 's15', 's4', 's11']]\n",
    "y_test = final_test_data['ttf_fixed']                            "
   ]
  },
  {
   "cell_type": "markdown",
   "id": "0d9bd001",
   "metadata": {},
   "source": [
    "## 3. Creat Regression model"
   ]
  },
  {
   "cell_type": "code",
   "execution_count": 3,
   "id": "ff549573",
   "metadata": {},
   "outputs": [],
   "source": [
    "def compute_cost(X, y, w, b): \n",
    "    \"\"\"\n",
    "    compute cost\n",
    "    Args:\n",
    "      X (ndarray (m,n)): Data, m examples with n features\n",
    "      y (ndarray (m,)) : target values\n",
    "      w (ndarray (n,)) : model parameters  \n",
    "      b (scalar)       : model parameter\n",
    "      \n",
    "    Returns:\n",
    "      cost (scalar): cost\n",
    "    \"\"\"\n",
    "    m = X.shape[0]\n",
    "    cost = 0.0\n",
    "    for i in range(m):                                \n",
    "        f_wb_i = np.dot(X[i], w) + b           #(n,)(n,) = scalar (see np.dot)\n",
    "        cost = cost + (f_wb_i - y[i])**2       #scalar\n",
    "    cost = cost / (2 * m)                      #scalar    \n",
    "    return cost"
   ]
  },
  {
   "cell_type": "code",
   "execution_count": 4,
   "id": "e38c6f6d",
   "metadata": {},
   "outputs": [],
   "source": [
    "def compute_gradient(X, y, w, b): \n",
    "    \"\"\"\n",
    "    Computes the gradient for linear regression \n",
    "    Args:\n",
    "      X (ndarray (m,n)): Data, m examples with n features\n",
    "      y (ndarray (m,)) : target values\n",
    "      w (ndarray (n,)) : model parameters  \n",
    "      b (scalar)       : model parameter\n",
    "      \n",
    "    Returns:\n",
    "      dj_dw (ndarray (n,)): The gradient of the cost w.r.t. the parameters w. \n",
    "      dj_db (scalar):       The gradient of the cost w.r.t. the parameter b. \n",
    "    \"\"\"\n",
    "    m,n = X.shape           #(number of examples, number of features)\n",
    "    dj_dw = np.zeros((n,))\n",
    "    dj_db = 0.\n",
    "\n",
    "    for i in range(m):                             \n",
    "        err = (np.dot(X[i], w) + b) - y[i]   \n",
    "        for j in range(n):                         \n",
    "            dj_dw[j] = dj_dw[j] + err * X[i, j]    \n",
    "        dj_db = dj_db + err                        \n",
    "    dj_dw = dj_dw / m                                \n",
    "    dj_db = dj_db / m                                \n",
    "        \n",
    "    return dj_db, dj_dw"
   ]
  },
  {
   "cell_type": "code",
   "execution_count": 5,
   "id": "d429b664",
   "metadata": {},
   "outputs": [],
   "source": [
    "def gradient_descent(X, y, w_in, b_in, cost_function, gradient_function, alpha, num_iters):\n",
    "    \"\"\"\n",
    "    Performs batch gradient descent to learn w and b. Updates w and b by taking \n",
    "    num_iters gradient steps with learning rate alpha\n",
    "    \n",
    "    Args:\n",
    "      X (ndarray (m,n))   : Data, m examples with n features\n",
    "      y (ndarray (m,))    : target values\n",
    "      w_in (ndarray (n,)) : initial model parameters  \n",
    "      b_in (scalar)       : initial model parameter\n",
    "      cost_function       : function to compute cost\n",
    "      gradient_function   : function to compute the gradient\n",
    "      alpha (float)       : Learning rate\n",
    "      num_iters (int)     : number of iterations to run gradient descent\n",
    "      \n",
    "    Returns:\n",
    "      w (ndarray (n,)) : Updated values of parameters \n",
    "      b (scalar)       : Updated value of parameter \n",
    "      \"\"\"\n",
    "    \n",
    "    # An array to store cost J and w's at each iteration primarily for graphing later\n",
    "    J_history = []\n",
    "    w = copy.deepcopy(w_in)  #avoid modifying global w within function\n",
    "    b = b_in\n",
    "    \n",
    "    for i in range(num_iters):\n",
    "\n",
    "        # Calculate the gradient and update the parameters\n",
    "        dj_db,dj_dw = gradient_function(X, y, w, b)   ##None\n",
    "\n",
    "        # Update Parameters using w, b, alpha and gradient\n",
    "        w = w - alpha * dj_dw               ##None\n",
    "        b = b - alpha * dj_db               ##None\n",
    "      \n",
    "        # Save cost J at each iteration\n",
    "        if i<100000:      # prevent resource exhaustion \n",
    "            J_history.append( cost_function(X, y, w, b))\n",
    "\n",
    "        # Print cost every at intervals 10 times or as many iterations if < 10\n",
    "        if i% math.ceil(num_iters / 10) == 0:\n",
    "            print(f\"Iteration {i:4d}: Cost {J_history[-1]:8.2f}   \")\n",
    "        \n",
    "    return w, b, J_history #return final w,b and J history for graphing"
   ]
  },
  {
   "cell_type": "code",
   "execution_count": 10,
   "id": "8bc316e5",
   "metadata": {
    "scrolled": true
   },
   "outputs": [
    {
     "name": "stdout",
     "output_type": "stream",
     "text": [
      "Iteration    0: Cost    37.56   \n",
      "Iteration   10: Cost     7.19   \n",
      "Iteration   20: Cost     6.76   \n",
      "Iteration   30: Cost     6.75   \n",
      "Iteration   40: Cost     6.75   \n",
      "Iteration   50: Cost     6.75   \n",
      "Iteration   60: Cost     6.75   \n",
      "Iteration   70: Cost     6.75   \n",
      "Iteration   80: Cost     6.75   \n",
      "Iteration   90: Cost     6.75   \n",
      "b,w found by gradient descent: 0.00,[3.00899579e-04 1.36529372e-05 2.27519836e-05 1.36758967e-03\n",
      " 1.36759198e-03 8.94551745e-04 2.20914449e-04 3.19594330e-04\n",
      " 3.66707116e-04 4.72491061e-06 7.79044699e-04 2.63804760e-05] \n"
     ]
    }
   ],
   "source": [
    "#prepare parameters:\n",
    "\n",
    "# convert dataframes to numpy arrays\n",
    "X_train_reg = np.array(X_train)\n",
    "y_train_reg = np.array(y_train)\n",
    "\n",
    "initial_w = np.zeros(X_train.shape[1])\n",
    "initial_b = 0\n",
    "\n",
    "# some gradient descent settings\n",
    "iterations = 100\n",
    "alpha = 0.00000001123\n",
    "\n",
    "# run gradient descent \n",
    "w_final, b_final, J_hist = gradient_descent(X_train_reg, y_train, initial_w, initial_b,\n",
    "                                            compute_cost, compute_gradient, alpha, iterations)\n",
    "                                            \n",
    "print(f\"b,w found by gradient descent: {b_final:0.2f},{w_final} \")"
   ]
  },
  {
   "cell_type": "markdown",
   "id": "b39618cb",
   "metadata": {},
   "source": [
    "## 4. Evaluating Model"
   ]
  },
  {
   "cell_type": "code",
   "execution_count": 22,
   "id": "b15e1a5f",
   "metadata": {},
   "outputs": [
    {
     "data": {
      "text/plain": [
       "9.735130930602722"
      ]
     },
     "execution_count": 22,
     "metadata": {},
     "output_type": "execute_result"
    }
   ],
   "source": [
    "#evaluating model\n",
    "weight = w_final\n",
    "bias= b_final\n",
    "\n",
    "# convert dataframes to numpy arrays\n",
    "X_test_reg = np.array(X_test)\n",
    "y_test_fixed_reg = np.array(y_test)\n",
    "\n",
    "y_pred=[]\n",
    "for i in range(X_test_reg.shape[0]):\n",
    "    # calculate predicted values of ttf\n",
    "    y_predict = np.dot(X_test_reg[i], weight) + bias\n",
    "    y_pred.append(y_predict)\n",
    "    \n",
    "max(y_pred - y_test_fixed_reg)"
   ]
  },
  {
   "cell_type": "markdown",
   "id": "a3539ff3",
   "metadata": {},
   "source": [
    "## 5. Evaluation Metrics"
   ]
  },
  {
   "cell_type": "code",
   "execution_count": 13,
   "id": "cff94099",
   "metadata": {},
   "outputs": [],
   "source": [
    "def regression_eval_metrics(actual, predicted):\n",
    "    \n",
    "    \"\"\"Calculate regression evaluation metrics.\n",
    "    \n",
    "    Args:\n",
    "        model (str): The model name identifier\n",
    "        actual (series): Contains the test label values\n",
    "        predicted (series): Contains the predicted values\n",
    "        \n",
    "    Returns:\n",
    "        dataframe: The combined metrics in single dataframe\n",
    "    \n",
    "    \n",
    "    \"\"\"\n",
    "    regr_metrics = {\n",
    "                        'Root Mean Squared Error' : metrics.mean_squared_error(actual, predicted)**0.5,\n",
    "                        'Mean Absolute Error' : metrics.mean_absolute_error(actual, predicted),\n",
    "                        'Explained Variance' : metrics.explained_variance_score(actual, predicted)\n",
    "                   }\n",
    "\n",
    "    #return reg_metrics\n",
    "    df_regr_metrics = pd.DataFrame.from_dict(regr_metrics, orient='index')\n",
    "    return df_regr_metrics\n"
   ]
  },
  {
   "cell_type": "code",
   "execution_count": 26,
   "id": "a6b3e945",
   "metadata": {},
   "outputs": [
    {
     "data": {
      "text/html": [
       "<div>\n",
       "<style scoped>\n",
       "    .dataframe tbody tr th:only-of-type {\n",
       "        vertical-align: middle;\n",
       "    }\n",
       "\n",
       "    .dataframe tbody tr th {\n",
       "        vertical-align: top;\n",
       "    }\n",
       "\n",
       "    .dataframe thead th {\n",
       "        text-align: right;\n",
       "    }\n",
       "</style>\n",
       "<table border=\"1\" class=\"dataframe\">\n",
       "  <thead>\n",
       "    <tr style=\"text-align: right;\">\n",
       "      <th></th>\n",
       "      <th>0</th>\n",
       "    </tr>\n",
       "  </thead>\n",
       "  <tbody>\n",
       "    <tr>\n",
       "      <th>Root Mean Squared Error</th>\n",
       "      <td>3.669171</td>\n",
       "    </tr>\n",
       "    <tr>\n",
       "      <th>Mean Absolute Error</th>\n",
       "      <td>2.941565</td>\n",
       "    </tr>\n",
       "    <tr>\n",
       "      <th>Explained Variance</th>\n",
       "      <td>-0.002014</td>\n",
       "    </tr>\n",
       "  </tbody>\n",
       "</table>\n",
       "</div>"
      ],
      "text/plain": [
       "                                0\n",
       "Root Mean Squared Error  3.669171\n",
       "Mean Absolute Error      2.941565\n",
       "Explained Variance      -0.002014"
      ]
     },
     "execution_count": 26,
     "metadata": {},
     "output_type": "execute_result"
    }
   ],
   "source": [
    "from sklearn import metrics\n",
    "get_reg_metrics = regression_eval_metrics(y_test, y_pred)\n",
    "get_reg_metrics"
   ]
  },
  {
   "cell_type": "code",
   "execution_count": 27,
   "id": "9a125b5f",
   "metadata": {},
   "outputs": [
    {
     "data": {
      "image/png": "[encoded data removed]",
      "text/plain": [
       "<Figure size 640x480 with 1 Axes>"
      ]
     },
     "metadata": {},
     "output_type": "display_data"
    }
   ],
   "source": [
    "import matplotlib.pyplot as plt\n",
    "fig = plt.scatter(y_test, y_pred)\n",
    "plt.xlabel('y_test')\n",
    "plt.ylabel('y_pred')\n",
    "plt.title('y_pred against y_test')\n",
    "plt.show()"
   ]
  },
  {
   "cell_type": "code",
   "execution_count": null,
   "id": "efc72a4a",
   "metadata": {},
   "outputs": [],
   "source": []
  },
  {
   "cell_type": "code",
   "execution_count": null,
   "id": "798c8760",
   "metadata": {},
   "outputs": [],
   "source": []
  }
 ],
 "metadata": {
  "kernelspec": {
   "display_name": "Python 3 (ipykernel)",
   "language": "python",
   "name": "python3"
  },
  "language_info": {
   "codemirror_mode": {
    "name": "ipython",
    "version": 3
   },
   "file_extension": ".py",
   "mimetype": "text/x-python",
   "name": "python",
   "nbconvert_exporter": "python",
   "pygments_lexer": "ipython3",
   "version": "3.9.16"
  }
 },
 "nbformat": 4,
 "nbformat_minor": 5
}
